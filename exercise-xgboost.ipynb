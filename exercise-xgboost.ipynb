{
 "cells": [
  {
   "cell_type": "markdown",
   "id": "f16e406b",
   "metadata": {
    "papermill": {
     "duration": 0.005137,
     "end_time": "2022-11-02T16:26:53.585454",
     "exception": false,
     "start_time": "2022-11-02T16:26:53.580317",
     "status": "completed"
    },
    "tags": []
   },
   "source": [
    "**This notebook is an exercise in the [Intermediate Machine Learning](https://www.kaggle.com/learn/intermediate-machine-learning) course.  You can reference the tutorial at [this link](https://www.kaggle.com/alexisbcook/xgboost).**\n",
    "\n",
    "---\n"
   ]
  },
  {
   "cell_type": "markdown",
   "id": "b7adfbe2",
   "metadata": {
    "papermill": {
     "duration": 0.00414,
     "end_time": "2022-11-02T16:26:53.594010",
     "exception": false,
     "start_time": "2022-11-02T16:26:53.589870",
     "status": "completed"
    },
    "tags": []
   },
   "source": [
    "In this exercise, you will use your new knowledge to train a model with **gradient boosting**.\n",
    "\n",
    "# Setup\n",
    "\n",
    "The questions below will give you feedback on your work. Run the following cell to set up the feedback system."
   ]
  },
  {
   "cell_type": "code",
   "execution_count": 1,
   "id": "8549639e",
   "metadata": {
    "execution": {
     "iopub.execute_input": "2022-11-02T16:26:53.604648Z",
     "iopub.status.busy": "2022-11-02T16:26:53.604014Z",
     "iopub.status.idle": "2022-11-02T16:26:55.525362Z",
     "shell.execute_reply": "2022-11-02T16:26:55.524518Z"
    },
    "papermill": {
     "duration": 1.928917,
     "end_time": "2022-11-02T16:26:55.527280",
     "exception": false,
     "start_time": "2022-11-02T16:26:53.598363",
     "status": "completed"
    },
    "tags": []
   },
   "outputs": [
    {
     "name": "stdout",
     "output_type": "stream",
     "text": [
      "Setup Complete\n"
     ]
    }
   ],
   "source": [
    "# Set up code checking\n",
    "import os\n",
    "if not os.path.exists(\"../input/train.csv\"):\n",
    "    os.symlink(\"../input/home-data-for-ml-course/train.csv\", \"../input/train.csv\")  \n",
    "    os.symlink(\"../input/home-data-for-ml-course/test.csv\", \"../input/test.csv\") \n",
    "from learntools.core import binder\n",
    "binder.bind(globals())\n",
    "from learntools.ml_intermediate.ex6 import *\n",
    "print(\"Setup Complete\")"
   ]
  },
  {
   "cell_type": "markdown",
   "id": "f98040d2",
   "metadata": {
    "papermill": {
     "duration": 0.004192,
     "end_time": "2022-11-02T16:26:55.536012",
     "exception": false,
     "start_time": "2022-11-02T16:26:55.531820",
     "status": "completed"
    },
    "tags": []
   },
   "source": [
    "You will work with the [Housing Prices Competition for Kaggle Learn Users](https://www.kaggle.com/c/home-data-for-ml-course) dataset from the previous exercise. \n",
    "\n",
    "![Ames Housing dataset image](https://i.imgur.com/lTJVG4e.png)\n",
    "\n",
    "Run the next code cell without changes to load the training and validation sets in `X_train`, `X_valid`, `y_train`, and `y_valid`.  The test set is loaded in `X_test`."
   ]
  },
  {
   "cell_type": "code",
   "execution_count": 2,
   "id": "908dd47e",
   "metadata": {
    "execution": {
     "iopub.execute_input": "2022-11-02T16:26:55.545926Z",
     "iopub.status.busy": "2022-11-02T16:26:55.545623Z",
     "iopub.status.idle": "2022-11-02T16:26:55.702848Z",
     "shell.execute_reply": "2022-11-02T16:26:55.701940Z"
    },
    "papermill": {
     "duration": 0.164806,
     "end_time": "2022-11-02T16:26:55.705109",
     "exception": false,
     "start_time": "2022-11-02T16:26:55.540303",
     "status": "completed"
    },
    "tags": []
   },
   "outputs": [],
   "source": [
    "import pandas as pd\n",
    "from sklearn.model_selection import train_test_split\n",
    "\n",
    "# Read the data\n",
    "X = pd.read_csv('../input/train.csv', index_col='Id')\n",
    "X_test_full = pd.read_csv('../input/test.csv', index_col='Id')\n",
    "\n",
    "# Remove rows with missing target, separate target from predictors\n",
    "X.dropna(axis=0, subset=['SalePrice'], inplace=True)\n",
    "y = X.SalePrice              \n",
    "X.drop(['SalePrice'], axis=1, inplace=True)\n",
    "\n",
    "# Break off validation set from training data\n",
    "X_train_full, X_valid_full, y_train, y_valid = train_test_split(X, y, train_size=0.8, test_size=0.2,\n",
    "                                                                random_state=0)\n",
    "\n",
    "# \"Cardinality\" means the number of unique values in a column\n",
    "# Select categorical columns with relatively low cardinality (convenient but arbitrary)\n",
    "low_cardinality_cols = [cname for cname in X_train_full.columns if X_train_full[cname].nunique() < 10 and \n",
    "                        X_train_full[cname].dtype == \"object\"]\n",
    "\n",
    "# Select numeric columns\n",
    "numeric_cols = [cname for cname in X_train_full.columns if X_train_full[cname].dtype in ['int64', 'float64']]\n",
    "\n",
    "# Keep selected columns only\n",
    "my_cols = low_cardinality_cols + numeric_cols\n",
    "X_train = X_train_full[my_cols].copy()\n",
    "X_valid = X_valid_full[my_cols].copy()\n",
    "X_test = X_test_full[my_cols].copy()\n",
    "\n",
    "# One-hot encode the data (to shorten the code, we use pandas)\n",
    "X_train = pd.get_dummies(X_train)\n",
    "X_valid = pd.get_dummies(X_valid)\n",
    "X_test = pd.get_dummies(X_test)\n",
    "X_train, X_valid = X_train.align(X_valid, join='left', axis=1)\n",
    "X_train, X_test = X_train.align(X_test, join='left', axis=1)"
   ]
  },
  {
   "cell_type": "markdown",
   "id": "09ab716a",
   "metadata": {
    "papermill": {
     "duration": 0.004217,
     "end_time": "2022-11-02T16:26:55.714029",
     "exception": false,
     "start_time": "2022-11-02T16:26:55.709812",
     "status": "completed"
    },
    "tags": []
   },
   "source": [
    "# Step 1: Build model\n",
    "\n",
    "### Part A\n",
    "\n",
    "In this step, you'll build and train your first model with gradient boosting.\n",
    "\n",
    "- Begin by setting `my_model_1` to an XGBoost model.  Use the [XGBRegressor](https://xgboost.readthedocs.io/en/latest/python/python_api.html#xgboost.XGBRegressor) class, and set the random seed to 0 (`random_state=0`).  **Leave all other parameters as default.**\n",
    "- Then, fit the model to the training data in `X_train` and `y_train`."
   ]
  },
  {
   "cell_type": "code",
   "execution_count": 3,
   "id": "2df1aa79",
   "metadata": {
    "execution": {
     "iopub.execute_input": "2022-11-02T16:26:55.724669Z",
     "iopub.status.busy": "2022-11-02T16:26:55.723709Z",
     "iopub.status.idle": "2022-11-02T16:26:56.507823Z",
     "shell.execute_reply": "2022-11-02T16:26:56.506822Z"
    },
    "papermill": {
     "duration": 0.792091,
     "end_time": "2022-11-02T16:26:56.510410",
     "exception": false,
     "start_time": "2022-11-02T16:26:55.718319",
     "status": "completed"
    },
    "tags": []
   },
   "outputs": [
    {
     "data": {
      "application/javascript": [
       "parent.postMessage({\"jupyterEvent\": \"custom.exercise_interaction\", \"data\": {\"outcomeType\": 1, \"valueTowardsCompletion\": 0.5, \"interactionType\": 1, \"questionType\": 2, \"questionId\": \"1.1_Model1A\", \"learnToolsVersion\": \"0.3.4\", \"failureMessage\": \"\", \"exceptionClass\": \"\", \"trace\": \"\"}}, \"*\")"
      ],
      "text/plain": [
       "<IPython.core.display.Javascript object>"
      ]
     },
     "metadata": {},
     "output_type": "display_data"
    },
    {
     "data": {
      "text/markdown": [
       "<span style=\"color:#33cc33\">Correct</span>"
      ],
      "text/plain": [
       "Correct"
      ]
     },
     "metadata": {},
     "output_type": "display_data"
    }
   ],
   "source": [
    "from xgboost import XGBRegressor\n",
    "\n",
    "# Define the model\n",
    "my_model_1 =  XGBRegressor()\n",
    "\n",
    "# Fit the model\n",
    "my_model_1.fit(X_train,y_train)\n",
    "\n",
    "# Check your answer\n",
    "step_1.a.check()"
   ]
  },
  {
   "cell_type": "code",
   "execution_count": 4,
   "id": "8466e2aa",
   "metadata": {
    "execution": {
     "iopub.execute_input": "2022-11-02T16:26:56.522680Z",
     "iopub.status.busy": "2022-11-02T16:26:56.521641Z",
     "iopub.status.idle": "2022-11-02T16:26:56.526497Z",
     "shell.execute_reply": "2022-11-02T16:26:56.525122Z"
    },
    "papermill": {
     "duration": 0.01889,
     "end_time": "2022-11-02T16:26:56.534423",
     "exception": false,
     "start_time": "2022-11-02T16:26:56.515533",
     "status": "completed"
    },
    "tags": []
   },
   "outputs": [],
   "source": [
    "# Lines below will give you a hint or solution code\n",
    "#step_1.a.hint()\n",
    "#step_1.a.solution()"
   ]
  },
  {
   "cell_type": "markdown",
   "id": "0318e5b6",
   "metadata": {
    "papermill": {
     "duration": 0.006139,
     "end_time": "2022-11-02T16:26:56.547767",
     "exception": false,
     "start_time": "2022-11-02T16:26:56.541628",
     "status": "completed"
    },
    "tags": []
   },
   "source": [
    "### Part B\n",
    "\n",
    "Set `predictions_1` to the model's predictions for the validation data.  Recall that the validation features are stored in `X_valid`."
   ]
  },
  {
   "cell_type": "code",
   "execution_count": 5,
   "id": "3ba02b7a",
   "metadata": {
    "execution": {
     "iopub.execute_input": "2022-11-02T16:26:56.558807Z",
     "iopub.status.busy": "2022-11-02T16:26:56.557958Z",
     "iopub.status.idle": "2022-11-02T16:26:56.600221Z",
     "shell.execute_reply": "2022-11-02T16:26:56.599561Z"
    },
    "papermill": {
     "duration": 0.049614,
     "end_time": "2022-11-02T16:26:56.602105",
     "exception": false,
     "start_time": "2022-11-02T16:26:56.552491",
     "status": "completed"
    },
    "tags": []
   },
   "outputs": [
    {
     "data": {
      "application/javascript": [
       "parent.postMessage({\"jupyterEvent\": \"custom.exercise_interaction\", \"data\": {\"outcomeType\": 1, \"valueTowardsCompletion\": 0.5, \"interactionType\": 1, \"questionType\": 2, \"questionId\": \"1.2_Model1B\", \"learnToolsVersion\": \"0.3.4\", \"failureMessage\": \"\", \"exceptionClass\": \"\", \"trace\": \"\"}}, \"*\")"
      ],
      "text/plain": [
       "<IPython.core.display.Javascript object>"
      ]
     },
     "metadata": {},
     "output_type": "display_data"
    },
    {
     "data": {
      "text/markdown": [
       "<span style=\"color:#33cc33\">Correct</span>"
      ],
      "text/plain": [
       "Correct"
      ]
     },
     "metadata": {},
     "output_type": "display_data"
    }
   ],
   "source": [
    "from sklearn.metrics import mean_absolute_error\n",
    "\n",
    "# Get predictions\n",
    "predictions_1 = my_model_1.predict(X_valid)\n",
    "\n",
    "# Check your answer\n",
    "step_1.b.check()"
   ]
  },
  {
   "cell_type": "code",
   "execution_count": 6,
   "id": "2e7bda4d",
   "metadata": {
    "execution": {
     "iopub.execute_input": "2022-11-02T16:26:56.613321Z",
     "iopub.status.busy": "2022-11-02T16:26:56.613061Z",
     "iopub.status.idle": "2022-11-02T16:26:56.617577Z",
     "shell.execute_reply": "2022-11-02T16:26:56.616435Z"
    },
    "papermill": {
     "duration": 0.012521,
     "end_time": "2022-11-02T16:26:56.620109",
     "exception": false,
     "start_time": "2022-11-02T16:26:56.607588",
     "status": "completed"
    },
    "tags": []
   },
   "outputs": [],
   "source": [
    "# Lines below will give you a hint or solution code\n",
    "#step_1.b.hint()\n",
    "#step_1.b.solution()"
   ]
  },
  {
   "cell_type": "markdown",
   "id": "8e9c5d6e",
   "metadata": {
    "papermill": {
     "duration": 0.005655,
     "end_time": "2022-11-02T16:26:56.631353",
     "exception": false,
     "start_time": "2022-11-02T16:26:56.625698",
     "status": "completed"
    },
    "tags": []
   },
   "source": [
    "### Part C\n",
    "\n",
    "Finally, use the `mean_absolute_error()` function to calculate the mean absolute error (MAE) corresponding to the predictions for the validation set.  Recall that the labels for the validation data are stored in `y_valid`."
   ]
  },
  {
   "cell_type": "code",
   "execution_count": 7,
   "id": "1cac47ec",
   "metadata": {
    "execution": {
     "iopub.execute_input": "2022-11-02T16:26:56.642304Z",
     "iopub.status.busy": "2022-11-02T16:26:56.641938Z",
     "iopub.status.idle": "2022-11-02T16:26:56.650969Z",
     "shell.execute_reply": "2022-11-02T16:26:56.650125Z"
    },
    "papermill": {
     "duration": 0.01751,
     "end_time": "2022-11-02T16:26:56.653706",
     "exception": false,
     "start_time": "2022-11-02T16:26:56.636196",
     "status": "completed"
    },
    "tags": []
   },
   "outputs": [
    {
     "name": "stdout",
     "output_type": "stream",
     "text": [
      "Mean Absolute Error: 17662.736729452055\n"
     ]
    },
    {
     "data": {
      "application/javascript": [
       "parent.postMessage({\"jupyterEvent\": \"custom.exercise_interaction\", \"data\": {\"outcomeType\": 1, \"valueTowardsCompletion\": 0.5, \"interactionType\": 1, \"questionType\": 2, \"questionId\": \"1.3_Model1C\", \"learnToolsVersion\": \"0.3.4\", \"failureMessage\": \"\", \"exceptionClass\": \"\", \"trace\": \"\"}}, \"*\")"
      ],
      "text/plain": [
       "<IPython.core.display.Javascript object>"
      ]
     },
     "metadata": {},
     "output_type": "display_data"
    },
    {
     "data": {
      "text/markdown": [
       "<span style=\"color:#33cc33\">Correct</span>"
      ],
      "text/plain": [
       "Correct"
      ]
     },
     "metadata": {},
     "output_type": "display_data"
    }
   ],
   "source": [
    "# Calculate MAE\n",
    "mae_1 = mean_absolute_error(predictions_1, y_valid)\n",
    "\n",
    "# Uncomment to print MAE\n",
    "print(\"Mean Absolute Error:\" , mae_1)\n",
    "\n",
    "# Check your answer\n",
    "step_1.c.check()"
   ]
  },
  {
   "cell_type": "code",
   "execution_count": 8,
   "id": "a3bb52bb",
   "metadata": {
    "execution": {
     "iopub.execute_input": "2022-11-02T16:26:56.667735Z",
     "iopub.status.busy": "2022-11-02T16:26:56.666423Z",
     "iopub.status.idle": "2022-11-02T16:26:56.671426Z",
     "shell.execute_reply": "2022-11-02T16:26:56.670571Z"
    },
    "papermill": {
     "duration": 0.014145,
     "end_time": "2022-11-02T16:26:56.673162",
     "exception": false,
     "start_time": "2022-11-02T16:26:56.659017",
     "status": "completed"
    },
    "tags": []
   },
   "outputs": [],
   "source": [
    "# Lines below will give you a hint or solution code\n",
    "#step_1.c.hint()\n",
    "#step_1.c.solution()"
   ]
  },
  {
   "cell_type": "markdown",
   "id": "91fe7586",
   "metadata": {
    "papermill": {
     "duration": 0.005175,
     "end_time": "2022-11-02T16:26:56.684112",
     "exception": false,
     "start_time": "2022-11-02T16:26:56.678937",
     "status": "completed"
    },
    "tags": []
   },
   "source": [
    "# Step 2: Improve the model\n",
    "\n",
    "Now that you've trained a default model as baseline, it's time to tinker with the parameters, to see if you can get better performance!\n",
    "- Begin by setting `my_model_2` to an XGBoost model, using the [XGBRegressor](https://xgboost.readthedocs.io/en/latest/python/python_api.html#xgboost.XGBRegressor) class.  Use what you learned in the previous tutorial to figure out how to change the default parameters (like `n_estimators` and `learning_rate`) to get better results.\n",
    "- Then, fit the model to the training data in `X_train` and `y_train`.\n",
    "- Set `predictions_2` to the model's predictions for the validation data.  Recall that the validation features are stored in `X_valid`.\n",
    "- Finally, use the `mean_absolute_error()` function to calculate the mean absolute error (MAE) corresponding to the predictions on the validation set.  Recall that the labels for the validation data are stored in `y_valid`.\n",
    "\n",
    "In order for this step to be marked correct, your model in `my_model_2` must attain lower MAE than the model in `my_model_1`. "
   ]
  },
  {
   "cell_type": "code",
   "execution_count": 9,
   "id": "a74eaa2a",
   "metadata": {
    "execution": {
     "iopub.execute_input": "2022-11-02T16:26:56.696872Z",
     "iopub.status.busy": "2022-11-02T16:26:56.696201Z",
     "iopub.status.idle": "2022-11-02T16:27:04.429702Z",
     "shell.execute_reply": "2022-11-02T16:27:04.428671Z"
    },
    "papermill": {
     "duration": 7.742418,
     "end_time": "2022-11-02T16:27:04.431886",
     "exception": false,
     "start_time": "2022-11-02T16:26:56.689468",
     "status": "completed"
    },
    "tags": []
   },
   "outputs": [
    {
     "name": "stdout",
     "output_type": "stream",
     "text": [
      "Mean Absolute Error: 16688.691513270547\n"
     ]
    },
    {
     "data": {
      "application/javascript": [
       "parent.postMessage({\"jupyterEvent\": \"custom.exercise_interaction\", \"data\": {\"outcomeType\": 1, \"valueTowardsCompletion\": 0.5, \"interactionType\": 1, \"questionType\": 2, \"questionId\": \"2_Model2\", \"learnToolsVersion\": \"0.3.4\", \"failureMessage\": \"\", \"exceptionClass\": \"\", \"trace\": \"\"}}, \"*\")"
      ],
      "text/plain": [
       "<IPython.core.display.Javascript object>"
      ]
     },
     "metadata": {},
     "output_type": "display_data"
    },
    {
     "data": {
      "text/markdown": [
       "<span style=\"color:#33cc33\">Correct</span>"
      ],
      "text/plain": [
       "Correct"
      ]
     },
     "metadata": {},
     "output_type": "display_data"
    }
   ],
   "source": [
    "# Define the model\n",
    "my_model_2 = XGBRegressor(n_estimators=1000, learning_rate=0.05)\n",
    "\n",
    "# Fit the model\n",
    "my_model_2.fit(X_train, y_train)\n",
    "\n",
    "# Get predictions\n",
    "predictions_2 = my_model_2.predict(X_valid)\n",
    "\n",
    "# Calculate MAE\n",
    "mae_2 = mean_absolute_error(predictions_2, y_valid)\n",
    "print(\"Mean Absolute Error:\" , mae_2)\n",
    "\n",
    "# Check your answer\n",
    "step_2.check()\n"
   ]
  },
  {
   "cell_type": "code",
   "execution_count": 10,
   "id": "8bec694d",
   "metadata": {
    "execution": {
     "iopub.execute_input": "2022-11-02T16:27:04.445016Z",
     "iopub.status.busy": "2022-11-02T16:27:04.444426Z",
     "iopub.status.idle": "2022-11-02T16:27:04.448877Z",
     "shell.execute_reply": "2022-11-02T16:27:04.447783Z"
    },
    "papermill": {
     "duration": 0.013395,
     "end_time": "2022-11-02T16:27:04.451478",
     "exception": false,
     "start_time": "2022-11-02T16:27:04.438083",
     "status": "completed"
    },
    "tags": []
   },
   "outputs": [],
   "source": [
    "# Lines below will give you a hint or solution code\n",
    "#step_2.hint()\n",
    "#step_2.solution()"
   ]
  },
  {
   "cell_type": "markdown",
   "id": "aec16dbd",
   "metadata": {
    "papermill": {
     "duration": 0.0054,
     "end_time": "2022-11-02T16:27:04.462550",
     "exception": false,
     "start_time": "2022-11-02T16:27:04.457150",
     "status": "completed"
    },
    "tags": []
   },
   "source": [
    "# Step 3: Break the model\n",
    "\n",
    "In this step, you will create a model that performs worse than the original model in Step 1.  This will help you to develop your intuition for how to set parameters.  You might even find that you accidentally get better performance, which is ultimately a nice problem to have and a valuable learning experience!\n",
    "- Begin by setting `my_model_3` to an XGBoost model, using the [XGBRegressor](https://xgboost.readthedocs.io/en/latest/python/python_api.html#xgboost.XGBRegressor) class.  Use what you learned in the previous tutorial to figure out how to change the default parameters (like `n_estimators` and `learning_rate`) to design a model to get high MAE.\n",
    "- Then, fit the model to the training data in `X_train` and `y_train`.\n",
    "- Set `predictions_3` to the model's predictions for the validation data.  Recall that the validation features are stored in `X_valid`.\n",
    "- Finally, use the `mean_absolute_error()` function to calculate the mean absolute error (MAE) corresponding to the predictions on the validation set.  Recall that the labels for the validation data are stored in `y_valid`.\n",
    "\n",
    "In order for this step to be marked correct, your model in `my_model_3` must attain higher MAE than the model in `my_model_1`. "
   ]
  },
  {
   "cell_type": "code",
   "execution_count": 11,
   "id": "420e600d",
   "metadata": {
    "execution": {
     "iopub.execute_input": "2022-11-02T16:27:04.475279Z",
     "iopub.status.busy": "2022-11-02T16:27:04.474725Z",
     "iopub.status.idle": "2022-11-02T16:27:04.525889Z",
     "shell.execute_reply": "2022-11-02T16:27:04.524763Z"
    },
    "papermill": {
     "duration": 0.059807,
     "end_time": "2022-11-02T16:27:04.527937",
     "exception": false,
     "start_time": "2022-11-02T16:27:04.468130",
     "status": "completed"
    },
    "tags": []
   },
   "outputs": [
    {
     "name": "stdout",
     "output_type": "stream",
     "text": [
      "Mean Absolute Error: 127895.0828807256\n"
     ]
    },
    {
     "data": {
      "application/javascript": [
       "parent.postMessage({\"jupyterEvent\": \"custom.exercise_interaction\", \"data\": {\"outcomeType\": 1, \"valueTowardsCompletion\": 0.5, \"interactionType\": 1, \"questionType\": 2, \"questionId\": \"3_Model3\", \"learnToolsVersion\": \"0.3.4\", \"failureMessage\": \"\", \"exceptionClass\": \"\", \"trace\": \"\"}}, \"*\")"
      ],
      "text/plain": [
       "<IPython.core.display.Javascript object>"
      ]
     },
     "metadata": {},
     "output_type": "display_data"
    },
    {
     "data": {
      "text/markdown": [
       "<span style=\"color:#33cc33\">Correct</span>"
      ],
      "text/plain": [
       "Correct"
      ]
     },
     "metadata": {},
     "output_type": "display_data"
    }
   ],
   "source": [
    "# Define the model\n",
    "my_model_3 = XGBRegressor(n_estimators=1)\n",
    "\n",
    "# Fit the model\n",
    "my_model_3.fit(X_train, y_train)\n",
    "\n",
    "# Get predictions\n",
    "predictions_3 = my_model_3.predict(X_valid)\n",
    "\n",
    "# Calculate MAE\n",
    "mae_3 = mean_absolute_error(predictions_3, y_valid)\n",
    "print(\"Mean Absolute Error:\" , mae_3)\n",
    "\n",
    "# Check your answer\n",
    "step_3.check()"
   ]
  },
  {
   "cell_type": "code",
   "execution_count": 12,
   "id": "16e125f4",
   "metadata": {
    "execution": {
     "iopub.execute_input": "2022-11-02T16:27:04.542628Z",
     "iopub.status.busy": "2022-11-02T16:27:04.541409Z",
     "iopub.status.idle": "2022-11-02T16:27:04.546302Z",
     "shell.execute_reply": "2022-11-02T16:27:04.545638Z"
    },
    "papermill": {
     "duration": 0.013909,
     "end_time": "2022-11-02T16:27:04.548072",
     "exception": false,
     "start_time": "2022-11-02T16:27:04.534163",
     "status": "completed"
    },
    "tags": []
   },
   "outputs": [],
   "source": [
    "# Lines below will give you a hint or solution code\n",
    "#step_3.hint()\n",
    "#step_3.solution()"
   ]
  },
  {
   "cell_type": "markdown",
   "id": "43c72fd6",
   "metadata": {
    "papermill": {
     "duration": 0.005842,
     "end_time": "2022-11-02T16:27:04.559783",
     "exception": false,
     "start_time": "2022-11-02T16:27:04.553941",
     "status": "completed"
    },
    "tags": []
   },
   "source": [
    "# Keep going\n",
    "\n",
    "Continue to learn about **[data leakage](https://www.kaggle.com/alexisbcook/data-leakage)**.  This is an important issue for a data scientist to understand, and it has the potential to ruin your models in subtle and dangerous ways!"
   ]
  },
  {
   "cell_type": "markdown",
   "id": "4c292969",
   "metadata": {
    "papermill": {
     "duration": 0.005569,
     "end_time": "2022-11-02T16:27:04.571551",
     "exception": false,
     "start_time": "2022-11-02T16:27:04.565982",
     "status": "completed"
    },
    "tags": []
   },
   "source": [
    "---\n",
    "\n",
    "\n",
    "\n",
    "\n",
    "*Have questions or comments? Visit the [course discussion forum](https://www.kaggle.com/learn/intermediate-machine-learning/discussion) to chat with other learners.*"
   ]
  }
 ],
 "metadata": {
  "kernelspec": {
   "display_name": "Python 3",
   "language": "python",
   "name": "python3"
  },
  "language_info": {
   "codemirror_mode": {
    "name": "ipython",
    "version": 3
   },
   "file_extension": ".py",
   "mimetype": "text/x-python",
   "name": "python",
   "nbconvert_exporter": "python",
   "pygments_lexer": "ipython3",
   "version": "3.7.12"
  },
  "papermill": {
   "default_parameters": {},
   "duration": 18.456678,
   "end_time": "2022-11-02T16:27:05.297615",
   "environment_variables": {},
   "exception": null,
   "input_path": "__notebook__.ipynb",
   "output_path": "__notebook__.ipynb",
   "parameters": {},
   "start_time": "2022-11-02T16:26:46.840937",
   "version": "2.3.4"
  }
 },
 "nbformat": 4,
 "nbformat_minor": 5
}
